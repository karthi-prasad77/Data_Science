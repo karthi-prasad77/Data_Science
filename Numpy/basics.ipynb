{
 "cells": [
  {
   "cell_type": "markdown",
   "metadata": {},
   "source": [
    "### Numpy Arrays and it's basic operations"
   ]
  },
  {
   "cell_type": "markdown",
   "metadata": {},
   "source": [
    "##### Note : Dimensions in numpy means axes"
   ]
  },
  {
   "cell_type": "code",
   "execution_count": 2,
   "metadata": {},
   "outputs": [],
   "source": [
    "# import required libraries\n",
    "\n",
    "import numpy as np\n",
    "import matplotlib.pyplot as plt\n",
    "from numpy import random"
   ]
  },
  {
   "cell_type": "code",
   "execution_count": 3,
   "metadata": {},
   "outputs": [
    {
     "data": {
      "text/plain": [
       "array([1, 2, 3, 4, 5], dtype=int8)"
      ]
     },
     "execution_count": 3,
     "metadata": {},
     "output_type": "execute_result"
    }
   ],
   "source": [
    "# create numpy array using list\n",
    "list_1 = [1, 2, 3, 4, 5]\n",
    "np_array_1 = np.array(list_1, dtype = np.int8)\n",
    "\n",
    "np_array_1"
   ]
  },
  {
   "cell_type": "code",
   "execution_count": 7,
   "metadata": {},
   "outputs": [
    {
     "name": "stdout",
     "output_type": "stream",
     "text": [
      "Multi-Dimensional Array : 2\n",
      "Shape of the array : (3, 3)\n",
      "Size of the array : 9\n"
     ]
    }
   ],
   "source": [
    "m_list = [[1, 2, 3], [4, 5, 6], [7, 8, 9]]\n",
    "m_array = np.array(m_list)\n",
    "\n",
    "# axes in the array\n",
    "print(f\"Multi-Dimensional Array : {m_array.ndim}\")\n",
    "\n",
    "# shape of the array\n",
    "print(f\"Shape of the array : {m_array.shape}\")\n",
    "\n",
    "# size of the array\n",
    "print(f\"Size of the array : {m_array.size}\")"
   ]
  },
  {
   "cell_type": "code",
   "execution_count": 14,
   "metadata": {},
   "outputs": [
    {
     "name": "stdout",
     "output_type": "stream",
     "text": [
      "int16\n",
      "Shape of the array : (4,)\n",
      "Dimensions of the array : 1\n",
      "\n",
      "Dimensions of the array : 2\n",
      "Shape of the array : (2, 4)\n"
     ]
    }
   ],
   "source": [
    "# creating array using tuple\n",
    "tup = (1, 2, 3, 4)\n",
    "tup_array = np.array(tup, dtype = np.int16)\n",
    "\n",
    "print(tup_array.dtype)\n",
    "print(f\"Shape of the array : {tup_array.shape}\")\n",
    "print(f\"Dimensions of the array : {tup_array.ndim}\")\n",
    "\n",
    "print()\n",
    "\n",
    "mtup = ((1, 2, 3, 4), (5, 6, 7, 8))\n",
    "mtup_array = np.array(mtup)\n",
    "print(f\"Dimensions of the array : {mtup_array.ndim}\")\n",
    "print(f\"Shape of the array : {mtup_array.shape}\")"
   ]
  },
  {
   "cell_type": "code",
   "execution_count": 19,
   "metadata": {},
   "outputs": [
    {
     "name": "stdout",
     "output_type": "stream",
     "text": [
      "Evenly specified array : [0 1 2 3 4 5 6 7 8 9]\n"
     ]
    }
   ],
   "source": [
    "# arange -> it used to returns the evenly specified values with the interval (step size)\n",
    "# Note : Step size is optional\n",
    "# dummy_array = np.arange(0, 10, 2)\n",
    "dummy_array = np.arange(0, 10)\n",
    "\n",
    "print(f\"Evenly specified array : {dummy_array}\")"
   ]
  },
  {
   "cell_type": "code",
   "execution_count": 29,
   "metadata": {},
   "outputs": [
    {
     "name": "stdout",
     "output_type": "stream",
     "text": [
      "Linspace array : [0.         0.83333333 1.66666667 2.5        3.33333333 4.16666667\n",
      " 5.        ]\n"
     ]
    }
   ],
   "source": [
    "# linspace -> returns the evenly specified values within the interval\n",
    "# Note : if the last paramater is not given then it returns the array of 50 items\n",
    "interval_array = np.linspace(0, 5, 7)\n",
    "\n",
    "print(f\"Linspace array : {interval_array}\")"
   ]
  },
  {
   "cell_type": "code",
   "execution_count": 42,
   "metadata": {},
   "outputs": [
    {
     "name": "stdout",
     "output_type": "stream",
     "text": [
      "Scalar array : [0. 0. 0. 0. 0. 0. 0. 0.]\n",
      "\n",
      "Zero array :\n",
      " [[0. 0. 0.]\n",
      " [0. 0. 0.]]\n",
      "Dimension of the array : 2\n",
      "Shape of the array : (2, 3)\n",
      "\n",
      "Multi-Dimensional Array :\n",
      " [[[0. 0.]\n",
      "  [0. 0.]\n",
      "  [0. 0.]]\n",
      "\n",
      " [[0. 0.]\n",
      "  [0. 0.]\n",
      "  [0. 0.]]\n",
      "\n",
      " [[0. 0.]\n",
      "  [0. 0.]\n",
      "  [0. 0.]]\n",
      "\n",
      " [[0. 0.]\n",
      "  [0. 0.]\n",
      "  [0. 0.]]]\n",
      "Dimension of the array : 3\n",
      "Shape of the array : (4, 3, 2)\n",
      "Data type of the array : float64\n"
     ]
    }
   ],
   "source": [
    "# creating array and fill with default values\n",
    "# Note : it used to create an Scaler, vector and multi-dimensional array\n",
    "# Dtype also specified while defining the zeros array\n",
    "\n",
    "# Scalar array\n",
    "scalar = np.zeros(8)\n",
    "\n",
    "print(f\"Scalar array : {scalar}\")\n",
    "\n",
    "print()\n",
    "\n",
    "# Vector array\n",
    "zero_array = np.zeros((2, 3))\n",
    "\n",
    "print(f\"Zero array :\\n {zero_array}\")\n",
    "print(f\"Dimension of the array : {zero_array.ndim}\")\n",
    "print(f\"Shape of the array : {zero_array.shape}\")\n",
    "\n",
    "print()\n",
    "\n",
    "# Multi-Dimensional array\n",
    "multiArray = np.zeros((4, 3, 2))\n",
    "\n",
    "print(f\"Multi-Dimensional Array :\\n {multiArray}\")\n",
    "print(f\"Dimension of the array : {multiArray.ndim}\")\n",
    "print(f\"Shape of the array : {multiArray.shape}\")\n",
    "\n",
    "# Data type of the array\n",
    "print(f\"Data type of the array : {multiArray.dtype}\")"
   ]
  },
  {
   "cell_type": "code",
   "execution_count": 48,
   "metadata": {},
   "outputs": [
    {
     "name": "stdout",
     "output_type": "stream",
     "text": [
      "Scalar Array : [1. 1. 1. 1. 1. 1. 1. 1. 1. 1.]\n",
      "\n",
      "\n",
      "Multi-Dimensional Array :\n",
      " [[1. 1. 1.]\n",
      " [1. 1. 1.]]\n",
      "Dimension of the array : 2\n",
      "Shape of the array : (2, 3)\n",
      "\n",
      "\n",
      "Multi-Dimensional Array :\n",
      " [[[1. 1. 1.]\n",
      "  [1. 1. 1.]]\n",
      "\n",
      " [[1. 1. 1.]\n",
      "  [1. 1. 1.]]\n",
      "\n",
      " [[1. 1. 1.]\n",
      "  [1. 1. 1.]]\n",
      "\n",
      " [[1. 1. 1.]\n",
      "  [1. 1. 1.]]]\n",
      "Dimension of the array : 3\n",
      "Shape of the array : (4, 2, 3)\n"
     ]
    }
   ],
   "source": [
    "# creating an empty array filled with value 1\n",
    "# it is also used to craete an scalar, vector and multi-dimensional array\n",
    "\n",
    "# scalar array\n",
    "scalar_array = np.ones(10)\n",
    "\n",
    "print(f\"Scalar Array : {scalar_array}\\n\")\n",
    "\n",
    "# vector array\n",
    "vector_array = np.ones((2, 3))\n",
    "\n",
    "print(f\"\\nMulti-Dimensional Array :\\n {vector_array}\")\n",
    "print(f\"Dimension of the array : {vector_array.ndim}\")\n",
    "print(f\"Shape of the array : {vector_array.shape}\")\n",
    "\n",
    "# multi-dimensional array\n",
    "multi_array = np.ones((4, 2, 3)) # [vector, vectorsize, vectorcolumn] -> (4, 2, 3)\n",
    "\n",
    "print(f\"\\n\\nMulti-Dimensional Array :\\n {multi_array}\")\n",
    "print(f\"Dimension of the array : {multi_array.ndim}\")\n",
    "print(f\"Shape of the array : {multi_array.shape}\")"
   ]
  },
  {
   "cell_type": "code",
   "execution_count": null,
   "metadata": {},
   "outputs": [],
   "source": []
  }
 ],
 "metadata": {
  "kernelspec": {
   "display_name": "venv",
   "language": "python",
   "name": "python3"
  },
  "language_info": {
   "codemirror_mode": {
    "name": "ipython",
    "version": 3
   },
   "file_extension": ".py",
   "mimetype": "text/x-python",
   "name": "python",
   "nbconvert_exporter": "python",
   "pygments_lexer": "ipython3",
   "version": "3.11.1"
  }
 },
 "nbformat": 4,
 "nbformat_minor": 2
}
